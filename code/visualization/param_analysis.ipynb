{
 "cells": [
  {
   "cell_type": "code",
   "execution_count": null,
   "metadata": {},
   "outputs": [],
   "source": [
    "from sklearn.cluster import KMeans \n",
    "import pandas as pd\n",
    "import os"
   ]
  },
  {
   "cell_type": "markdown",
   "metadata": {},
   "source": [
    "# Select Scenario"
   ]
  },
  {
   "cell_type": "code",
   "execution_count": null,
   "metadata": {},
   "outputs": [],
   "source": [
    "scenario_names = ['LVM1', 'LVM2', 'LVDAD', 'LVD', 'POV_UnprotectedLeft']\n",
    "scenario = scenario_names[4]\n",
    "# print(scenario)\n",
    "#\n",
    "res_path = \"../../results/\"+scenario"
   ]
  },
  {
   "cell_type": "markdown",
   "metadata": {},
   "source": [
    "# Run Kmeans"
   ]
  },
  {
   "cell_type": "code",
   "execution_count": null,
   "metadata": {},
   "outputs": [],
   "source": [
    "# Read data from a csv to pandas data frame\n",
    "data = pd.read_csv(os.path.join(res_path, scenario + '_combined.csv'), index_col=False)\n",
    "\n",
    "clusters = 3\n",
    "\n",
    "kmeans = KMeans(n_clusters = clusters, n_jobs=4) \n",
    "kmeans.fit(data) \n",
    "\n",
    "km_labels = kmeans.labels_\n",
    "\n",
    "print(kmeans.cluster_centers_)\n",
    "print(len(km_labels))\n",
    "\n",
    "data['cluster_label'] = km_labels\n",
    "data = data.sort_values(by=['cluster_label'])\n",
    "\n",
    "data.to_csv(os.path.join(res_path, scenario + '_param_cluster.csv'), index=False)"
   ]
  },
  {
   "cell_type": "markdown",
   "metadata": {},
   "source": [
    "# Experimental"
   ]
  },
  {
   "cell_type": "code",
   "execution_count": null,
   "metadata": {},
   "outputs": [],
   "source": [
    "from sklearn.decomposition import PCA \n",
    "\n",
    "pca = PCA(3) \n",
    "pca.fit(data) \n",
    "\n",
    "pca_data = pd.DataFrame(pca.transform(data)) \n",
    "\n",
    "print(pca_data.head())\n",
    "\n",
    "\n",
    "from matplotlib import colors as mcolors \n",
    "import math \n",
    "\n",
    "''' Generating different colors in ascending order of their hsv values '''\n",
    "colors = list(zip(*sorted((tuple(mcolors.rgb_to_hsv(\n",
    "    mcolors.to_rgba(color)[:3])), name)\n",
    "                           for name, color in dict( \n",
    "                               mcolors.BASE_COLORS, **mcolors.CSS4_COLORS\n",
    "                           ).items())))[1] \n",
    "\n",
    "\n",
    "# number of steps to taken generate n(clusters) colors \n",
    "skips = math.floor(len(colors[5 : -5])/clusters) \n",
    "cluster_colors = colors[5 : -5 : skips] \n",
    "\n"
   ]
  },
  {
   "cell_type": "code",
   "execution_count": null,
   "metadata": {},
   "outputs": [],
   "source": [
    "from mpl_toolkits.mplot3d import Axes3D \n",
    "import matplotlib.pyplot as plt \n",
    "%matplotlib qt\n",
    "\n",
    "fig = plt.figure() \n",
    "ax = fig.add_subplot(111, projection = '3d') \n",
    "ax.scatter(pca_data[1], pca_data[2], pca_data[0], \n",
    "           c = list(map(lambda label : cluster_colors[label], \n",
    "                        kmeans.labels_))) \n",
    "\n",
    "str_labels = list(map(lambda label:'% s' % label, kmeans.labels_)) \n",
    "\n",
    "# list(map(lambda data1, data2, data3, str_label:\n",
    "#          ax.text(data1, data2, data3, s = str_label, size = 20,\n",
    "#                  zorder = 20, color = 'k'), pca_data[0], pca_data[1],\n",
    "#          pca_data[2], str_labels)) \n",
    "\n",
    "plt.show() \n"
   ]
  },
  {
   "cell_type": "code",
   "execution_count": null,
   "metadata": {},
   "outputs": [],
   "source": []
  }
 ],
 "metadata": {
  "kernelspec": {
   "display_name": "Python 3",
   "language": "python",
   "name": "python3"
  },
  "language_info": {
   "codemirror_mode": {
    "name": "ipython",
    "version": 3
   },
   "file_extension": ".py",
   "mimetype": "text/x-python",
   "name": "python",
   "nbconvert_exporter": "python",
   "pygments_lexer": "ipython3",
   "version": "3.7.4"
  }
 },
 "nbformat": 4,
 "nbformat_minor": 2
}
