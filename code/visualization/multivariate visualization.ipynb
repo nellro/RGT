{
 "cells": [
  {
   "cell_type": "code",
   "execution_count": null,
   "metadata": {},
   "outputs": [],
   "source": [
    "import matplotlib.pyplot as plt\n",
    "import csv\n",
    "import os\n",
    "import sys\n",
    "from mpl_toolkits import mplot3d\n",
    "import scipy.linalg\n",
    "from mpl_toolkits.mplot3d import Axes3D\n",
    "import numpy as np\n",
    "from matplotlib import cm\n",
    "from itertools import combinations\n",
    "import math\n",
    "\n",
    "# for interactive plots\n",
    "%matplotlib qt"
   ]
  },
  {
   "cell_type": "code",
   "execution_count": null,
   "metadata": {},
   "outputs": [],
   "source": [
    "def getData1D(filepath):\n",
    "    file = open(filepath)\n",
    "    reader = csv.reader(file)\n",
    "    data_str = list(reader)\n",
    "    file.close()\n",
    "    X = [float(x[0]) for x in data_str]\n",
    "    return X\n",
    "\n",
    "def getData2D(filepath):\n",
    "    file = open(filepath)\n",
    "    reader = csv.reader(file)\n",
    "    data_str = list(reader)\n",
    "    file.close()\n",
    "    X1 = [float(x[2]) for x in data_str]\n",
    "    X2 = [float(x[3]) for x in data_str]\n",
    "    return X1, X2\n",
    "\n",
    "def getData5D(filepath):\n",
    "    file = open(filepath)\n",
    "    reader = csv.reader(file)\n",
    "    data_str = list(reader)\n",
    "    file.close()\n",
    "    X1 = [float(x[0]) for x in data_str[1:]]\n",
    "    X2 = [float(x[1]) for x in data_str[1:]]\n",
    "    X3 = [float(x[2]) for x in data_str[1:]]\n",
    "    X4 = [float(x[3]) for x in data_str[1:]]\n",
    "    rob = [float(x[4]) for x in data_str[1:]]\n",
    "    return X1, X2, X3, X4, rob"
   ]
  },
  {
   "cell_type": "markdown",
   "metadata": {},
   "source": [
    "# PARAMETERS (set it up YO-self)"
   ]
  },
  {
   "cell_type": "code",
   "execution_count": null,
   "metadata": {},
   "outputs": [],
   "source": [
    "scenario_names = ['LVM1', 'LVM2', 'LVDAD', 'LVD', 'pov_unprotected_left']\n",
    "#\n",
    "scenario = scenario_names[3]\n",
    "#\n",
    "FOLDER_PATH = '../../results/'+scenario\n",
    "#\n",
    "X1_name = 'alpha_lon_accel_max'\n",
    "X2_name = 'alpha_lon_brake_max'\n",
    "X3_name = 'alpha_lon_brake_min'\n",
    "X4_name = 'response_time'\n",
    "#\n",
    "flag_plot_surface = False\n",
    "fontsize =15\n",
    "#"
   ]
  },
  {
   "cell_type": "markdown",
   "metadata": {},
   "source": [
    "# Get data from combined file and plot it"
   ]
  },
  {
   "cell_type": "code",
   "execution_count": null,
   "metadata": {},
   "outputs": [],
   "source": [
    "# get data from file\n",
    "x1, x2, x3, x4, rob = getData5D(os.path.join(FOLDER_PATH, scenario + '_combined.csv'))\n",
    "X1 = x1\n",
    "X2 = x4 \n",
    "R = rob\n",
    "\n",
    "## combination of the variables\n",
    "comb_var = combinations([x1, x2, x3, x4], 2) \n",
    "\n",
    "## combination of the names\n",
    "comb_names = combinations([X1_name, X2_name, X3_name, X4_name], 2) \n",
    "names_list = list(comb_names)\n",
    "           \n",
    "for i, var in enumerate(list(comb_var)):\n",
    "    X1 = var[0]\n",
    "    X2 = var[1]\n",
    "    search_name_x = names_list[i][0]\n",
    "    search_name_y = names_list[i][1]\n",
    "    \n",
    "    fig = plt.figure(i)\n",
    "    \n",
    "    ## Plot data\n",
    "\n",
    "    data = np.column_stack((X1,X2,R))\n",
    "    ax = plt.axes(projection='3d')    \n",
    "\n",
    "    ax.scatter3D(X1, X2, R, c=R, cmap=cm.RdYlGn, alpha=0.8)\n",
    "    ax.set_xlabel(search_name_x, fontsize=fontsize)\n",
    "    ax.set_ylabel(search_name_y, fontsize=fontsize)\n",
    "    ax.set_zlabel('Robustness', fontsize=fontsize)\n",
    "    plt.tick_params(labelsize=10) \n",
    "    \n",
    "    \n",
    "    ## Plot 0 flat mesh\n",
    "    \n",
    "    y_lim= ax.get_ylim()\n",
    "    x_lim= ax.get_xlim()\n",
    "    \n",
    "    step = 0.1\n",
    "    x_min = float(x_lim[0])\n",
    "    x_max = float(x_lim[1])\n",
    "    y_min = float(y_lim[0])\n",
    "    y_max = float(y_lim[1])\n",
    "\n",
    "    X_mesh,Y_mesh = np.meshgrid(np.arange(x_min, x_max, step), np.arange(y_min, y_max, step))\n",
    "\n",
    "    ## Plot surface mesh \n",
    "        \n",
    "    if flag_plot_surface:\n",
    "\n",
    "        XX = X_mesh.flatten()\n",
    "        YY = Y_mesh.flatten()\n",
    "\n",
    "        A = np.c_[np.ones(data.shape[0]), data[:,:2], np.prod(data[:,:2], axis=1), data[:,:2]**2]\n",
    "        C,_,_,_ = scipy.linalg.lstsq(A, data[:,2])\n",
    "        Z = np.dot(np.c_[np.ones(XX.shape), XX, YY, XX*YY, XX**2, YY**2], C).reshape(X_mesh.shape)\n",
    "        ax.plot_surface(X_mesh, Y_mesh, Z, rstride=1, cstride=1, alpha=0.8, cmap=cm.RdYlGn, linewidth=0, antialiased=False)\n",
    "\n",
    "    ax.plot_surface(X_mesh, Y_mesh, X_mesh*0, rstride=1, cstride=1, alpha=0.1, cmap=cm.RdYlGn, linewidth=0, antialiased=False)\n",
    "\n",
    "    figname = os.path.join(FOLDER_PATH, scenario + '_' + search_name_x + '_vs_' + search_name_y + '.png')\n",
    "    \n",
    "    plt.savefig(figname, dpi=200)\n",
    "\n",
    "    plt.show()"
   ]
  },
  {
   "cell_type": "code",
   "execution_count": null,
   "metadata": {},
   "outputs": [],
   "source": []
  }
 ],
 "metadata": {
  "kernelspec": {
   "display_name": "Python 3",
   "language": "python",
   "name": "python3"
  },
  "language_info": {
   "codemirror_mode": {
    "name": "ipython",
    "version": 3
   },
   "file_extension": ".py",
   "mimetype": "text/x-python",
   "name": "python",
   "nbconvert_exporter": "python",
   "pygments_lexer": "ipython3",
   "version": "3.7.4"
  }
 },
 "nbformat": 4,
 "nbformat_minor": 2
}
