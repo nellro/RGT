{
 "cells": [
  {
   "cell_type": "code",
   "execution_count": 1,
   "metadata": {},
   "outputs": [],
   "source": [
    "import os\n",
    "import io\n",
    "import csv\n",
    "import sys\n",
    "import re\n",
    "from collections import defaultdict\n",
    "import pandas as pd\n",
    "import matplotlib.pyplot as plt\n",
    "import pandas as pd\n",
    "import numpy as np\n",
    "import math\n"
   ]
  },
  {
   "cell_type": "code",
   "execution_count": 2,
   "metadata": {},
   "outputs": [],
   "source": [
    "def getData1D(filepath):\n",
    "    file = open(filepath)\n",
    "    reader = csv.reader(file)\n",
    "    data_str = list(reader)\n",
    "    file.close()\n",
    "    X = [float(x[0]) for x in data_str]\n",
    "    return X\n",
    "\n",
    "def getData4D(filepath):\n",
    "    file = open(filepath)\n",
    "    reader = csv.reader(file)\n",
    "    data_str = list(reader)\n",
    "    file.close()\n",
    "    X1 = [float(x[0]) for x in data_str]\n",
    "    X2 = [float(x[1]) for x in data_str]\n",
    "    X3 = [float(x[2]) for x in data_str]\n",
    "    X4 = [float(x[3]) for x in data_str]\n",
    "    return X1, X2, X3, X4\n",
    "\n",
    "def getData5D(filepath):\n",
    "    file = open(filepath)\n",
    "    reader = csv.reader(file)\n",
    "    data_str = list(reader)\n",
    "    file.close()\n",
    "    X1 = [float(x[0]) for x in data_str[1:]]\n",
    "    X2 = [float(x[1]) for x in data_str[1:]]\n",
    "    X3 = [float(x[2]) for x in data_str[1:]]\n",
    "    X4 = [float(x[3]) for x in data_str[1:]]\n",
    "    rob = [float(x[4]) for x in data_str[1:]]\n",
    "    return X1, X2, X3, X4, rob"
   ]
  },
  {
   "cell_type": "markdown",
   "metadata": {},
   "source": [
    "# Parameters (set it up YO-self)"
   ]
  },
  {
   "cell_type": "code",
   "execution_count": 26,
   "metadata": {},
   "outputs": [
    {
     "name": "stdout",
     "output_type": "stream",
     "text": [
      "['LVD1']\n",
      "folders to analyze  ['../../results/LVD/LVD1']\n"
     ]
    }
   ],
   "source": [
    "scenario_names = ['LVM1', 'LVM2', 'LVDAD', 'LVD', 'POV_UnprotectedLeft']\n",
    "scenario = scenario_names[3]\n",
    "# print(scenario)\n",
    "#\n",
    "res_path = \"../../results/\"+scenario\n",
    "dir_list = next(os.walk(res_path))[1]\n",
    "print (dir_list)\n",
    "#\n",
    "scenario_folders = [res_path+'/'+f for f in dir_list] # Select scenario folders\n",
    "print('folders to analyze ', scenario_folders)\n",
    "#\n",
    "robustness_fn = 'f_history.csv'\n",
    "params_fn = 'x_history.csv'\n",
    "#\n",
    "X1_name = 'alpha_lon_accel_max'\n",
    "X2_name = 'alpha_lon_brake_max'\n",
    "X3_name = 'alpha_lon_brake_min'\n",
    "X4_name = 'response_time'"
   ]
  },
  {
   "cell_type": "markdown",
   "metadata": {},
   "source": [
    "# Creating a dictionary to find duplicated data points\n"
   ]
  },
  {
   "cell_type": "code",
   "execution_count": 27,
   "metadata": {},
   "outputs": [
    {
     "name": "stdout",
     "output_type": "stream",
     "text": [
      "reading folder  ../../results/LVD/LVD1\n",
      "data size  3001\n",
      "final data size  3001\n"
     ]
    }
   ],
   "source": [
    "## creating a dictionary to find duplicated data points\n",
    "\n",
    "X1 = []\n",
    "X2 = []\n",
    "X3 = []\n",
    "X4 = []\n",
    "robustness = []\n",
    "data_dict = defaultdict(list)\n",
    "\n",
    "for folder in scenario_folders:\n",
    "    print(\"reading folder \", folder)\n",
    "    rob_fn = os.path.join(folder, robustness_fn)\n",
    "    par_fn = os.path.join(folder, params_fn)\n",
    "    \n",
    "    robustness = getData1D(rob_fn)\n",
    "    X1,X2,X3,X4 = getData4D(par_fn)\n",
    "    print(\"data size \", len(robustness))\n",
    "    \n",
    "    for i in range(len(robustness)):\n",
    "        str_keys = [str(X1[i]), str(X2[i]), str(X3[i]), str(X4[i])]\n",
    "        key = '_'.join(str_keys)\n",
    "\n",
    "        if data_dict[key]:\n",
    "            data_dict[key][X1_name].append(X1[i])\n",
    "            data_dict[key][X2_name].append(X2[i])\n",
    "            data_dict[key][X3_name].append(X3[i])\n",
    "            data_dict[key][X4_name].append(X4[i])\n",
    "            data_dict[key]['robustness'].append(robustness[i])\n",
    "            print('repeated params:', key, ', robustness:', data_dict[key]['robustness'])\n",
    "\n",
    "        else: \n",
    "            data_dict[key] = {X1_name:[], X2_name:[], X3_name:[], X4_name:[], 'robustness':[]}\n",
    "            data_dict[key][X1_name].append(X1[i])\n",
    "            data_dict[key][X2_name].append(X2[i])\n",
    "            data_dict[key][X3_name].append(X3[i])\n",
    "            data_dict[key][X4_name].append(X4[i])\n",
    "            data_dict[key]['robustness'].append(robustness[i])\n",
    "        \n",
    "    print(\"final data size \", len(data_dict.keys()))\n",
    "  "
   ]
  },
  {
   "cell_type": "markdown",
   "metadata": {},
   "source": [
    "# Save data to csv file "
   ]
  },
  {
   "cell_type": "code",
   "execution_count": 28,
   "metadata": {},
   "outputs": [],
   "source": [
    "### Save data to csv file \n",
    "with open(os.path.join(res_path, scenario + '_combined.csv'), 'w') as f:\n",
    "    fieldnames = [X1_name, X2_name, X3_name, X4_name, 'robustness']\n",
    "    writer = csv.writer(f)\n",
    "    writer.writerow(fieldnames)\n",
    "    \n",
    "    for entry in data_dict:\n",
    "        vals = [data_dict[entry][X1_name][0], \n",
    "                data_dict[entry][X2_name][0], \n",
    "                data_dict[entry][X3_name][0], \n",
    "                data_dict[entry][X4_name][0], \n",
    "                data_dict[entry]['robustness'][0]]\n",
    "        writer.writerow(vals)     "
   ]
  },
  {
   "cell_type": "markdown",
   "metadata": {},
   "source": [
    "# Read data from a csv to pandas data frame"
   ]
  },
  {
   "cell_type": "code",
   "execution_count": 29,
   "metadata": {},
   "outputs": [],
   "source": [
    "# Read data from a csv to pandas data frame\n",
    "data = pd.read_csv(os.path.join(res_path, scenario + '_combined.csv'), index_col=False)\n",
    "\n",
    "# sort values by robustness\n",
    "data = data.sort_values(by=['robustness'])\n",
    "\n",
    "rob_min = data['robustness'].iloc[0]\n",
    "rob_max = data['robustness'].iloc[-1]\n",
    "\n",
    "# create bins for data binning\n",
    "bins = range(0, math.ceil(rob_max)+1, 1)\n",
    "# print(bins)"
   ]
  },
  {
   "cell_type": "code",
   "execution_count": 30,
   "metadata": {},
   "outputs": [],
   "source": [
    "## separate data into bins and extract min max\n",
    "min_bin_params = []\n",
    "max_bin_params = []\n",
    "\n",
    "min_max_vals = []\n",
    "for i in bins:\n",
    "#     print(i)\n",
    "    if i == 0:\n",
    "        beg = i\n",
    "        end = i\n",
    "        data_aux = data[data['robustness'] <= end]\n",
    "    else:\n",
    "        beg = i-1\n",
    "        end = i\n",
    "        data_aux = data[data['robustness'] <= end]\n",
    "        data_aux = data_aux[data_aux['robustness'] > beg]\n",
    "\n",
    "    if len(data_aux) == 0:\n",
    "        \n",
    "        min_bin_params.append([-1])\n",
    "        max_bin_params.append([-1])\n",
    "        \n",
    "        min_max_vals.append([-1,-1,-1,-1,-1,-1,-1,-1, i])\n",
    "\n",
    "    else:  \n",
    "        \n",
    "        min_bin_params.append(list(data_aux.iloc[0]))\n",
    "        max_bin_params.append(list(data_aux.iloc[-1]))\n",
    "\n",
    "        min_max_vals.append([data_aux['alpha_lon_accel_max'].min(),\n",
    "               data_aux['alpha_lon_accel_max'].max(),\n",
    "               data_aux['alpha_lon_brake_max'].min(),\n",
    "               data_aux['alpha_lon_brake_max'].max(),\n",
    "               data_aux['alpha_lon_brake_min'].min(),\n",
    "               data_aux['alpha_lon_brake_min'].max(),\n",
    "               data_aux['response_time'].min(),\n",
    "               data_aux['response_time'].max(), \n",
    "                   i])\n",
    "\n",
    "        \n",
    "### Save results to csv        \n",
    "with open(os.path.join(res_path, scenario + '_param_bounds.csv'), 'w') as f:\n",
    "    \n",
    "    fieldnames = [X1_name+'_min', X1_name+'_max', X2_name+'_min', X2_name+'_max',\n",
    "                  X3_name+'_min', X3_name+'_max', X4_name+'_min', X4_name+'_max',\n",
    "                  'robustness_bin']\n",
    "    writer = csv.writer(f)\n",
    "    writer.writerow(fieldnames)\n",
    "    \n",
    "    for row in min_max_vals:\n",
    "        writer.writerow(row) \n",
    "\n",
    "    \n",
    "    fieldnames = [X1_name, X2_name,\n",
    "                  X3_name, X4_name,\n",
    "                  'robustness_min', 'bin']\n",
    "    writer = csv.writer(f)\n",
    "    writer.writerow(fieldnames)\n",
    "    for i, row in enumerate(min_bin_params):\n",
    "        writer.writerow(row+[i]) \n",
    "    \n",
    "    fieldnames = [X1_name, X2_name,\n",
    "                  X3_name, X4_name,\n",
    "                  'robustness_max', 'bin']\n",
    "    writer = csv.writer(f)\n",
    "    writer.writerow(fieldnames)\n",
    "        \n",
    "    for i, row in enumerate(max_bin_params):\n",
    "        writer.writerow(row+[i]) "
   ]
  },
  {
   "cell_type": "code",
   "execution_count": null,
   "metadata": {},
   "outputs": [],
   "source": []
  }
 ],
 "metadata": {
  "kernelspec": {
   "display_name": "Python 3",
   "language": "python",
   "name": "python3"
  },
  "language_info": {
   "codemirror_mode": {
    "name": "ipython",
    "version": 3
   },
   "file_extension": ".py",
   "mimetype": "text/x-python",
   "name": "python",
   "nbconvert_exporter": "python",
   "pygments_lexer": "ipython3",
   "version": "3.7.4"
  }
 },
 "nbformat": 4,
 "nbformat_minor": 2
}
